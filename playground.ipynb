{
 "cells": [
  {
   "cell_type": "code",
   "execution_count": 27,
   "metadata": {},
   "outputs": [],
   "source": [
    "import random\n",
    "import numpy as np\n",
    "import matplotlib.pyplot as plt\n",
    "import pandas as pd\n",
    "import sympy\n",
    "from sklearn.linear_model import LinearRegression\n",
    "from scipy.spatial import Voronoi, voronoi_plot_2d\n"
   ]
  },
  {
   "cell_type": "code",
   "execution_count": 2,
   "metadata": {},
   "outputs": [
    {
     "data": {
      "image/png": "[encoded data removed]",
      "text/plain": [
       "<Figure size 432x288 with 1 Axes>"
      ]
     },
     "metadata": {
      "needs_background": "light"
     },
     "output_type": "display_data"
    }
   ],
   "source": [
    "N = 70\n",
    "M = 10\n",
    "\n",
    "Matrix = [(random.random()*100,random.random()*100)  for x in range(M)]\n",
    "points = np.array(Matrix)\n",
    "\n",
    "\n",
    "vor = Voronoi(points)\n",
    "voronoi_plot_2d(vor)\n",
    "plt.show()\n"
   ]
  },
  {
   "cell_type": "code",
   "execution_count": 3,
   "metadata": {},
   "outputs": [
    {
     "data": {
      "text/plain": [
       "[[-1, 2],\n",
       " [3, 1, -1, 2],\n",
       " [8, 6, 5, 7],\n",
       " [7, -1, 0, 5],\n",
       " [8, 1, 3, 4, 6],\n",
       " [8, 1, -1, 7],\n",
       " [10, 9, -1],\n",
       " [9, 4, 3, 2, -1],\n",
       " [],\n",
       " [10, 0, 5, 6, 4, 9],\n",
       " [10, 0, -1]]"
      ]
     },
     "execution_count": 3,
     "metadata": {},
     "output_type": "execute_result"
    }
   ],
   "source": [
    "vor.regions"
   ]
  },
  {
   "cell_type": "code",
   "execution_count": 75,
   "metadata": {},
   "outputs": [
    {
     "data": {
      "text/plain": [
       "17.841987719271046"
      ]
     },
     "execution_count": 75,
     "metadata": {},
     "output_type": "execute_result"
    }
   ],
   "source": [
    "MAX_NUMBER = 10000\n",
    "primes = list(sympy.primerange(0, MAX_NUMBER))\n",
    "\n",
    "X = []\n",
    "y = []\n",
    "\n",
    "for n in range(MAX_NUMBER):\n",
    "    valid_primes = [p for p in primes if p <= n ** 0.5]\n",
    "    remainder = sum([n % p for p in valid_primes])\n",
    "    y.append(remainder)\n",
    "    X.append([n])\n",
    "    \n",
    "\n",
    "model = LinearRegression(fit_intercept = False).fit(X, y)\n",
    "1 / model.coef_[0]"
   ]
  },
  {
   "cell_type": "code",
   "execution_count": null,
   "metadata": {},
   "outputs": [],
   "source": []
  },
  {
   "cell_type": "code",
   "execution_count": null,
   "metadata": {},
   "outputs": [],
   "source": []
  },
  {
   "cell_type": "code",
   "execution_count": null,
   "metadata": {},
   "outputs": [],
   "source": []
  },
  {
   "cell_type": "code",
   "execution_count": null,
   "metadata": {},
   "outputs": [],
   "source": []
  },
  {
   "cell_type": "code",
   "execution_count": null,
   "metadata": {},
   "outputs": [],
   "source": []
  },
  {
   "cell_type": "code",
   "execution_count": null,
   "metadata": {},
   "outputs": [],
   "source": []
  },
  {
   "cell_type": "code",
   "execution_count": null,
   "metadata": {
    "scrolled": true
   },
   "outputs": [],
   "source": []
  },
  {
   "cell_type": "code",
   "execution_count": null,
   "metadata": {},
   "outputs": [],
   "source": []
  },
  {
   "cell_type": "code",
   "execution_count": null,
   "metadata": {},
   "outputs": [],
   "source": []
  },
  {
   "cell_type": "code",
   "execution_count": null,
   "metadata": {},
   "outputs": [],
   "source": []
  }
 ],
 "metadata": {
  "kernelspec": {
   "display_name": "Python 3",
   "language": "python",
   "name": "python3"
  },
  "language_info": {
   "codemirror_mode": {
    "name": "ipython",
    "version": 3
   },
   "file_extension": ".py",
   "mimetype": "text/x-python",
   "name": "python",
   "nbconvert_exporter": "python",
   "pygments_lexer": "ipython3",
   "version": "3.7.3"
  }
 },
 "nbformat": 4,
 "nbformat_minor": 2
}
