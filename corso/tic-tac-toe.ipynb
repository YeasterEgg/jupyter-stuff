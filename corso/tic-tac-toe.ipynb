{
 "cells": [
  {
   "cell_type": "code",
   "execution_count": 66,
   "metadata": {},
   "outputs": [],
   "source": [
    "import tensorflow as tf\n",
    "from tensorflow import keras\n",
    "from tensorflow.keras import layers\n",
    "import pandas as pd\n",
    "from typing import List"
   ]
  },
  {
   "cell_type": "code",
   "execution_count": 26,
   "metadata": {},
   "outputs": [],
   "source": [
    "model = keras.Sequential(\n",
    "    [\n",
    "        layers.Dense(2, activation=\"relu\", name=\"layer1\"),\n",
    "        layers.Dense(3, activation=\"relu\", name=\"layer2\"),\n",
    "        layers.Dense(4, name=\"layer3\"),\n",
    "    ]\n",
    ")\n"
   ]
  },
  {
   "cell_type": "code",
   "execution_count": 27,
   "metadata": {},
   "outputs": [],
   "source": [
    "x = tf.ones((3, 3))\n",
    "y = model(x)\n"
   ]
  },
  {
   "cell_type": "code",
   "execution_count": 28,
   "metadata": {},
   "outputs": [],
   "source": [
    "df = pd.read_json(\"https://raw.githubusercontent.com/PAIR-code/thehardway/master/tic-tac-toe/training/david/15Kmoves.json\")"
   ]
  },
  {
   "cell_type": "code",
   "execution_count": 29,
   "metadata": {},
   "outputs": [
    {
     "data": {
      "text/html": [
       "<div>\n",
       "<style scoped>\n",
       "    .dataframe tbody tr th:only-of-type {\n",
       "        vertical-align: middle;\n",
       "    }\n",
       "\n",
       "    .dataframe tbody tr th {\n",
       "        vertical-align: top;\n",
       "    }\n",
       "\n",
       "    .dataframe thead th {\n",
       "        text-align: right;\n",
       "    }\n",
       "</style>\n",
       "<table border=\"1\" class=\"dataframe\">\n",
       "  <thead>\n",
       "    <tr style=\"text-align: right;\">\n",
       "      <th></th>\n",
       "      <th>player</th>\n",
       "      <th>firstMover</th>\n",
       "      <th>gameWinner</th>\n",
       "      <th>boardstr</th>\n",
       "      <th>boxToPlay</th>\n",
       "    </tr>\n",
       "  </thead>\n",
       "  <tbody>\n",
       "    <tr>\n",
       "      <th>0</th>\n",
       "      <td>1</td>\n",
       "      <td>0</td>\n",
       "      <td>1</td>\n",
       "      <td>--0------</td>\n",
       "      <td>3</td>\n",
       "    </tr>\n",
       "    <tr>\n",
       "      <th>1</th>\n",
       "      <td>1</td>\n",
       "      <td>0</td>\n",
       "      <td>1</td>\n",
       "      <td>--01---0-</td>\n",
       "      <td>1</td>\n",
       "    </tr>\n",
       "    <tr>\n",
       "      <th>2</th>\n",
       "      <td>1</td>\n",
       "      <td>0</td>\n",
       "      <td>1</td>\n",
       "      <td>-101---00</td>\n",
       "      <td>0</td>\n",
       "    </tr>\n",
       "    <tr>\n",
       "      <th>3</th>\n",
       "      <td>1</td>\n",
       "      <td>0</td>\n",
       "      <td>1</td>\n",
       "      <td>11010--00</td>\n",
       "      <td>6</td>\n",
       "    </tr>\n",
       "    <tr>\n",
       "      <th>4</th>\n",
       "      <td>1</td>\n",
       "      <td>1</td>\n",
       "      <td>1</td>\n",
       "      <td>---------</td>\n",
       "      <td>1</td>\n",
       "    </tr>\n",
       "  </tbody>\n",
       "</table>\n",
       "</div>"
      ],
      "text/plain": [
       "   player  firstMover  gameWinner   boardstr  boxToPlay\n",
       "0       1           0           1  --0------          3\n",
       "1       1           0           1  --01---0-          1\n",
       "2       1           0           1  -101---00          0\n",
       "3       1           0           1  11010--00          6\n",
       "4       1           1           1  ---------          1"
      ]
     },
     "execution_count": 29,
     "metadata": {},
     "output_type": "execute_result"
    }
   ],
   "source": [
    "df.head()"
   ]
  },
  {
   "cell_type": "code",
   "execution_count": 38,
   "metadata": {},
   "outputs": [],
   "source": [
    "def row_to_input(row) -> List[int]:\n",
    "    game_size = len(row.boardstr)\n",
    "    other_player = '0' if str(row.player) == '1' else '1'\n",
    "    result = [None] * game_size * 2\n",
    "    for idx in range(game_size):\n",
    "        result[idx] = 1 if row.boardstr[idx] == str(row.player) else 0\n",
    "        result[idx + game_size] = 1 if row.boardstr[idx] == other_player else 0\n",
    "    return result\n",
    "\n",
    "def row_to_output(row) -> List[int]:\n",
    "    game_size = len(row.boardstr)\n",
    "    result = [0] * game_size\n",
    "    result[row.boxToPlay] = 1\n",
    "    return result\n"
   ]
  },
  {
   "cell_type": "code",
   "execution_count": 39,
   "metadata": {},
   "outputs": [],
   "source": [
    "df[\"input\"] = df.apply(row_to_input, axis=1)"
   ]
  },
  {
   "cell_type": "code",
   "execution_count": 40,
   "metadata": {},
   "outputs": [],
   "source": [
    "df[\"output\"] = df.apply(row_to_output, axis=1)"
   ]
  },
  {
   "cell_type": "code",
   "execution_count": 121,
   "metadata": {},
   "outputs": [],
   "source": [
    "df.head().to_json()\n",
    "number = 0"
   ]
  },
  {
   "cell_type": "code",
   "execution_count": 122,
   "metadata": {},
   "outputs": [
    {
     "data": {
      "application/javascript": [
       "\n",
       "class Match {\n",
       "    constructor(identifier) {\n",
       "        this.grid = Array(9).fill(0)\n",
       "        this.gridDom = this.grid.map((_, idx) => {\n",
       "            const cell = document.createElement('div')\n",
       "            cell.className = 'ttt-cell'\n",
       "            cell.innerText = '-'\n",
       "            cell.onclick = () => this.handleClick(idx)\n",
       "            return cell\n",
       "        })\n",
       "        this.container = document.getElementById(identifier)\n",
       "        for (const cell of this.gridDom) {\n",
       "            this.container.appendChild(cell)\n",
       "        }\n",
       "    }\n",
       "    \n",
       "    get side() {\n",
       "        return Math.sqrt(this.grid.length)\n",
       "    }\n",
       "    \n",
       "    reset = () => {\n",
       "        for (const idx in this.grid) {\n",
       "            this.grid[idx] = 0\n",
       "            this.gridDom[idx].innerText = '-'\n",
       "        }\n",
       "    }\n",
       "    \n",
       "    restartGame = () => {\n",
       "        alert('Game over!')\n",
       "        this.reset()\n",
       "    }\n",
       "    \n",
       "    handleClick = (idx) => {\n",
       "        if (this.grid[idx] !== 0) return alert('Cell already used!')\n",
       "        this.grid[idx] = 1\n",
       "        this.gridDom[idx].innerText = 'X'\n",
       "        const over = this.checkWin()\n",
       "        if (over) return\n",
       "        executePython(`handler_fn(${JSON.stringify(this.grid)})`).then((jdx) => {\n",
       "            if (jdx === '-1') return this.restartGame()\n",
       "            this.grid[jdx] = -1\n",
       "            this.gridDom[jdx].innerText = 'O'\n",
       "            return new Promise((resolve) => setTimeout(resolve, 100))\n",
       "        }).then(() => {\n",
       "            this.checkWin()\n",
       "        })\n",
       "    }\n",
       "    \n",
       "    checkGroup = (group) => {\n",
       "        const sum = group.reduce((a, v) => a + v, 0)\n",
       "        return Math.floor(Math.abs(sum) / group.length) * Math.sign(sum)\n",
       "    }\n",
       "    \n",
       "    \n",
       "    checkWin = () => {\n",
       "        // check rows\n",
       "        for (let idx = 0; idx < this.side; idx++) {\n",
       "            const row = this.grid.slice(idx * this.side, idx * this.side + this.side)\n",
       "            const winner = this.checkGroup(row)\n",
       "            if (Math.abs(winner) === 0) continue\n",
       "            alert(`${winner === 1 ? 'X' : 'O'} is the winner!`)\n",
       "            this.restartGame()\n",
       "            return true\n",
       "        }\n",
       "        return false\n",
       "    }\n",
       "}\n",
       "\n",
       "window.Match = Match\n",
       "\n",
       "function executePython(python) {\n",
       "    return new Promise(resolve => {\n",
       "        const cb = {\n",
       "            iopub: {\n",
       "                output: data => resolve(data.content.text.trim())\n",
       "            }\n",
       "        }\n",
       "        Jupyter.notebook.kernel.execute(`print(${python})`, cb)\n",
       "    })\n",
       "}\n"
      ],
      "text/plain": [
       "<IPython.core.display.Javascript object>"
      ]
     },
     "metadata": {},
     "output_type": "display_data"
    }
   ],
   "source": [
    "%run './tic-tac-toe-js.ipynb'"
   ]
  },
  {
   "cell_type": "code",
   "execution_count": 127,
   "metadata": {},
   "outputs": [],
   "source": [
    "def handle_input(match: List[int]) -> str:\n",
    "    for jdx in range(len(match)):\n",
    "        adj_jdx = len(match) - 1 - jdx\n",
    "        if match[adj_jdx] == 0:\n",
    "            return str(adj_jdx)\n",
    "    return str(-1)"
   ]
  },
  {
   "cell_type": "code",
   "execution_count": 128,
   "metadata": {},
   "outputs": [
    {
     "data": {
      "text/html": [
       "\n",
       "    <style>\n",
       "        #grid {\n",
       "            display: flex;\n",
       "            flex-wrap: wrap;\n",
       "            flex-direction: row;\n",
       "        }\n",
       "        .ttt-cell {\n",
       "            width: 33%;\n",
       "        }\n",
       "\n",
       "    </style>\n",
       "    "
      ],
      "text/plain": [
       "<IPython.core.display.HTML object>"
      ]
     },
     "metadata": {},
     "output_type": "display_data"
    },
    {
     "data": {
      "text/html": [
       "<div id='grid'></div>"
      ],
      "text/plain": [
       "<IPython.core.display.HTML object>"
      ]
     },
     "metadata": {},
     "output_type": "display_data"
    },
    {
     "data": {
      "application/javascript": [
       "new window.Match('grid', )"
      ],
      "text/plain": [
       "<IPython.core.display.Javascript object>"
      ]
     },
     "metadata": {},
     "output_type": "display_data"
    }
   ],
   "source": [
    "play_game(handle_input)"
   ]
  },
  {
   "cell_type": "code",
   "execution_count": null,
   "metadata": {},
   "outputs": [],
   "source": []
  }
 ],
 "metadata": {
  "kernelspec": {
   "display_name": "Python 3",
   "language": "python",
   "name": "python3"
  },
  "language_info": {
   "codemirror_mode": {
    "name": "ipython",
    "version": 3
   },
   "file_extension": ".py",
   "mimetype": "text/x-python",
   "name": "python",
   "nbconvert_exporter": "python",
   "pygments_lexer": "ipython3",
   "version": "3.8.5"
  }
 },
 "nbformat": 4,
 "nbformat_minor": 4
}
