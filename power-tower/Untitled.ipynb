{
 "cells": [
  {
   "cell_type": "code",
   "execution_count": 20,
   "metadata": {},
   "outputs": [
    {
     "name": "stdout",
     "output_type": "stream",
     "text": [
      "1.4449999999999517 (34, 'Numerical result out of range')\n",
      "1.4449999999999517 (34, 'Numerical result out of range')\n"
     ]
    },
    {
     "data": {
      "text/plain": [
       "<matplotlib.collections.PathCollection at 0x7f6306f0c710>"
      ]
     },
     "execution_count": 20,
     "metadata": {},
     "output_type": "execute_result"
    },
    {
     "data": {
      "image/png": "[encoded data removed]",
      "text/plain": [
       "<Figure size 720x720 with 1 Axes>"
      ]
     },
     "metadata": {
      "needs_background": "light"
     },
     "output_type": "display_data"
    }
   ],
   "source": [
    "import matplotlib.pyplot as plt\n",
    "import numpy as np\n",
    "\n",
    "def power_tower(base, iterations, total = None):\n",
    "    total = total or base\n",
    "    if (iterations == 0):\n",
    "        return total\n",
    "    else:\n",
    "        return power_tower(base, iterations - 1, base ** total)\n",
    "    \n",
    "x = 0\n",
    "step = 0.001\n",
    "\n",
    "values_odd = []\n",
    "values_even = []\n",
    "\n",
    "while True:\n",
    "    try:\n",
    "        y = power_tower(x, 1000)\n",
    "        values_even.append([x,y])\n",
    "        x += step\n",
    "    except Exception as e:\n",
    "        print(x, e)\n",
    "        break\n",
    "        \n",
    "while True:\n",
    "    try:\n",
    "        y = power_tower(x, 1001)\n",
    "        values_odd.append([x,y])\n",
    "        x += step\n",
    "    except Exception as e:\n",
    "        print(x, e)\n",
    "        break\n",
    "        \n",
    "        \n",
    "plt.figure(figsize=(10, 10))\n",
    "x = [v[0] for v in values_even]\n",
    "y = [v[1] for v in values_even]\n",
    "plt.scatter(x, y)\n",
    "\n",
    "x = [v[0] for v in values_odd]\n",
    "y = [v[1] for v in values_odd]\n",
    "plt.scatter(x, y)\n"
   ]
  },
  {
   "cell_type": "code",
   "execution_count": null,
   "metadata": {},
   "outputs": [],
   "source": []
  }
 ],
 "metadata": {
  "kernelspec": {
   "display_name": "Python 3",
   "language": "python",
   "name": "python3"
  },
  "language_info": {
   "codemirror_mode": {
    "name": "ipython",
    "version": 3
   },
   "file_extension": ".py",
   "mimetype": "text/x-python",
   "name": "python",
   "nbconvert_exporter": "python",
   "pygments_lexer": "ipython3",
   "version": "3.7.3"
  }
 },
 "nbformat": 4,
 "nbformat_minor": 2
}
