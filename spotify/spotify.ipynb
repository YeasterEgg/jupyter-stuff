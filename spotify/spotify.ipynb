{
 "cells": [
  {
   "cell_type": "code",
   "execution_count": 58,
   "metadata": {},
   "outputs": [],
   "source": [
    "%matplotlib inline\n",
    "import pandas as pd\n",
    "import numpy as np\n",
    "import matplotlib.pyplot as plt\n",
    "import seaborn as sns\n",
    "from sklearn.decomposition import PCA\n",
    "from sklearn.preprocessing import StandardScaler \n",
    "\n",
    "sns.set()"
   ]
  },
  {
   "cell_type": "code",
   "execution_count": 53,
   "metadata": {},
   "outputs": [],
   "source": [
    "df = pd.read_json(\"./songs.json\")"
   ]
  },
  {
   "cell_type": "code",
   "execution_count": 54,
   "metadata": {},
   "outputs": [
    {
     "data": {
      "text/html": [
       "<div>\n",
       "<style scoped>\n",
       "    .dataframe tbody tr th:only-of-type {\n",
       "        vertical-align: middle;\n",
       "    }\n",
       "\n",
       "    .dataframe tbody tr th {\n",
       "        vertical-align: top;\n",
       "    }\n",
       "\n",
       "    .dataframe thead th {\n",
       "        text-align: right;\n",
       "    }\n",
       "</style>\n",
       "<table border=\"1\" class=\"dataframe\">\n",
       "  <thead>\n",
       "    <tr style=\"text-align: right;\">\n",
       "      <th></th>\n",
       "      <th>0</th>\n",
       "      <th>1</th>\n",
       "      <th>2</th>\n",
       "      <th>3</th>\n",
       "      <th>4</th>\n",
       "      <th>5</th>\n",
       "      <th>6</th>\n",
       "      <th>7</th>\n",
       "      <th>8</th>\n",
       "      <th>9</th>\n",
       "      <th>10</th>\n",
       "      <th>11</th>\n",
       "      <th>12</th>\n",
       "    </tr>\n",
       "  </thead>\n",
       "  <tbody>\n",
       "    <tr>\n",
       "      <td>0</td>\n",
       "      <td>1.373686</td>\n",
       "      <td>-2.059408</td>\n",
       "      <td>0.844497</td>\n",
       "      <td>-1.335188</td>\n",
       "      <td>0.750000</td>\n",
       "      <td>0.181107</td>\n",
       "      <td>-0.508668</td>\n",
       "      <td>1.449201</td>\n",
       "      <td>-0.455268</td>\n",
       "      <td>-0.369917</td>\n",
       "      <td>-0.996346</td>\n",
       "      <td>-0.423564</td>\n",
       "      <td>0.317221</td>\n",
       "    </tr>\n",
       "    <tr>\n",
       "      <td>1</td>\n",
       "      <td>0.571826</td>\n",
       "      <td>-1.035563</td>\n",
       "      <td>0.566702</td>\n",
       "      <td>-0.254720</td>\n",
       "      <td>0.750000</td>\n",
       "      <td>2.044091</td>\n",
       "      <td>-0.136140</td>\n",
       "      <td>1.326316</td>\n",
       "      <td>-0.279923</td>\n",
       "      <td>0.468466</td>\n",
       "      <td>2.244520</td>\n",
       "      <td>0.031399</td>\n",
       "      <td>0.317221</td>\n",
       "    </tr>\n",
       "    <tr>\n",
       "      <td>2</td>\n",
       "      <td>0.837443</td>\n",
       "      <td>-1.251708</td>\n",
       "      <td>0.566702</td>\n",
       "      <td>-0.635599</td>\n",
       "      <td>0.750000</td>\n",
       "      <td>2.400399</td>\n",
       "      <td>1.163504</td>\n",
       "      <td>0.417476</td>\n",
       "      <td>-0.528328</td>\n",
       "      <td>-0.278960</td>\n",
       "      <td>-0.814035</td>\n",
       "      <td>-0.159570</td>\n",
       "      <td>0.317221</td>\n",
       "    </tr>\n",
       "    <tr>\n",
       "      <td>3</td>\n",
       "      <td>0.902594</td>\n",
       "      <td>-0.916114</td>\n",
       "      <td>-1.100068</td>\n",
       "      <td>0.261662</td>\n",
       "      <td>-1.333333</td>\n",
       "      <td>-0.755476</td>\n",
       "      <td>-0.550840</td>\n",
       "      <td>-0.677996</td>\n",
       "      <td>-0.903128</td>\n",
       "      <td>1.567856</td>\n",
       "      <td>-0.600589</td>\n",
       "      <td>-0.294205</td>\n",
       "      <td>0.317221</td>\n",
       "    </tr>\n",
       "    <tr>\n",
       "      <td>4</td>\n",
       "      <td>-0.104743</td>\n",
       "      <td>0.608278</td>\n",
       "      <td>-0.266683</td>\n",
       "      <td>0.748863</td>\n",
       "      <td>-1.333333</td>\n",
       "      <td>-0.857278</td>\n",
       "      <td>-0.546939</td>\n",
       "      <td>0.609485</td>\n",
       "      <td>-0.721208</td>\n",
       "      <td>-0.512284</td>\n",
       "      <td>0.103914</td>\n",
       "      <td>-0.005790</td>\n",
       "      <td>0.317221</td>\n",
       "    </tr>\n",
       "  </tbody>\n",
       "</table>\n",
       "</div>"
      ],
      "text/plain": [
       "          0         1         2         3         4         5         6  \\\n",
       "0  1.373686 -2.059408  0.844497 -1.335188  0.750000  0.181107 -0.508668   \n",
       "1  0.571826 -1.035563  0.566702 -0.254720  0.750000  2.044091 -0.136140   \n",
       "2  0.837443 -1.251708  0.566702 -0.635599  0.750000  2.400399  1.163504   \n",
       "3  0.902594 -0.916114 -1.100068  0.261662 -1.333333 -0.755476 -0.550840   \n",
       "4 -0.104743  0.608278 -0.266683  0.748863 -1.333333 -0.857278 -0.546939   \n",
       "\n",
       "          7         8         9        10        11        12  \n",
       "0  1.449201 -0.455268 -0.369917 -0.996346 -0.423564  0.317221  \n",
       "1  1.326316 -0.279923  0.468466  2.244520  0.031399  0.317221  \n",
       "2  0.417476 -0.528328 -0.278960 -0.814035 -0.159570  0.317221  \n",
       "3 -0.677996 -0.903128  1.567856 -0.600589 -0.294205  0.317221  \n",
       "4  0.609485 -0.721208 -0.512284  0.103914 -0.005790  0.317221  "
      ]
     },
     "execution_count": 54,
     "metadata": {},
     "output_type": "execute_result"
    }
   ],
   "source": [
    "clean = df.drop([\"type\", \"id\", \"uri\", \"track_href\", \"analysis_url\"], axis=1)\n",
    "\n",
    "clean.head()\n",
    "\n",
    "x_scaled = StandardScaler().fit_transform(clean)\n",
    "\n",
    "data = pd.DataFrame(x_scaled)\n",
    "\n",
    "data.head()\n"
   ]
  },
  {
   "cell_type": "code",
   "execution_count": 55,
   "metadata": {},
   "outputs": [],
   "source": [
    "pca = PCA(n_components=13)\n",
    "transformed = pca.fit(data).transform(data)\n"
   ]
  },
  {
   "cell_type": "code",
   "execution_count": 56,
   "metadata": {},
   "outputs": [
    {
     "data": {
      "text/plain": [
       "array([0.26667338, 0.1520539 , 0.12376542, 0.10226086, 0.08410347,\n",
       "       0.06431312, 0.04628401, 0.0414376 , 0.03873157, 0.03230202,\n",
       "       0.01855335, 0.01660117, 0.01292013])"
      ]
     },
     "execution_count": 56,
     "metadata": {},
     "output_type": "execute_result"
    }
   ],
   "source": [
    "pca.explained_variance_ratio_"
   ]
  },
  {
   "cell_type": "code",
   "execution_count": 67,
   "metadata": {},
   "outputs": [
    {
     "data": {
      "text/plain": [
       "Text(0, 0.5, 'component 2')"
      ]
     },
     "execution_count": 67,
     "metadata": {},
     "output_type": "execute_result"
    },
    {
     "data": {
      "image/png": "[encoded data removed]",
      "text/plain": [
       "<Figure size 432x288 with 1 Axes>"
      ]
     },
     "metadata": {},
     "output_type": "display_data"
    }
   ],
   "source": [
    "plt.scatter(transformed[:, 0], transformed[:, 1])\n",
    "plt.xlabel('component 1')\n",
    "plt.ylabel('component 2')\n"
   ]
  },
  {
   "cell_type": "code",
   "execution_count": null,
   "metadata": {},
   "outputs": [],
   "source": []
  }
 ],
 "metadata": {
  "kernelspec": {
   "display_name": "Python 3",
   "language": "python",
   "name": "python3"
  },
  "language_info": {
   "codemirror_mode": {
    "name": "ipython",
    "version": 3
   },
   "file_extension": ".py",
   "mimetype": "text/x-python",
   "name": "python",
   "nbconvert_exporter": "python",
   "pygments_lexer": "ipython3",
   "version": "3.7.3"
  }
 },
 "nbformat": 4,
 "nbformat_minor": 2
}
